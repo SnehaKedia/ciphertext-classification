{
 "cells": [
  {
   "cell_type": "markdown",
   "metadata": {},
   "source": [
    "### Imports"
   ]
  },
  {
   "cell_type": "code",
   "execution_count": 1,
   "metadata": {},
   "outputs": [
    {
     "name": "stdout",
     "output_type": "stream",
     "text": [
      "WARNING:tensorflow:From /Users/Sneha/anaconda3/lib/python3.8/site-packages/tensorflow/python/compat/v2_compat.py:101: disable_resource_variables (from tensorflow.python.ops.variable_scope) is deprecated and will be removed in a future version.\n",
      "Instructions for updating:\n",
      "non-resource variables are not supported in the long term\n"
     ]
    }
   ],
   "source": [
    "import os\n",
    "import collections\n",
    "import re\n",
    "import math\n",
    "\n",
    "import pandas as pd\n",
    "import numpy as np\n",
    "from sklearn.model_selection import train_test_split\n",
    "\n",
    "import tensorflow as tf\n",
    "import tensorflow.compat.v1 as tf\n",
    "tf.disable_v2_behavior()\n",
    "\n",
    "import nltk\n",
    "from nltk.tokenize import word_tokenize\n",
    "\n",
    "import warnings\n",
    "warnings.filterwarnings('ignore')"
   ]
  },
  {
   "cell_type": "markdown",
   "metadata": {},
   "source": [
    "### Read training, dev and unlabeled test data"
   ]
  },
  {
   "cell_type": "markdown",
   "metadata": {},
   "source": [
    "The following provides a starting code (Python 3) of how to read the labeled training and dev cipher text, and unlabeled test cipher text, into lists."
   ]
  },
  {
   "cell_type": "code",
   "execution_count": 2,
   "metadata": {},
   "outputs": [],
   "source": [
    "TRAIN_PATH = './train_enc.tsv'\n",
    "DEV_PATH = './dev_enc.tsv'\n",
    "TEST_PATH = './test_enc_unlabeled.tsv'"
   ]
  },
  {
   "cell_type": "code",
   "execution_count": 3,
   "metadata": {},
   "outputs": [],
   "source": [
    "df_train = pd.read_csv(TRAIN_PATH, sep='\\t', names=['label', 'content'])\n",
    "df_valid = pd.read_csv(DEV_PATH, sep='\\t', names=['label', 'content'])\n",
    "df_test = pd.read_csv(TEST_PATH, sep='\\t', names=['content'])"
   ]
  },
  {
   "cell_type": "markdown",
   "metadata": {},
   "source": [
    "### Main Code Body"
   ]
  },
  {
   "cell_type": "markdown",
   "metadata": {},
   "source": [
    "You may choose to experiment with different methods using your program. However, you need to embed the training and inference processes at here. We will use your prediction on the unlabeled test data to grade, while checking this part to understand how your method has produced the predictions."
   ]
  },
  {
   "cell_type": "markdown",
   "metadata": {},
   "source": [
    "#### Word RNN Model"
   ]
  },
  {
   "cell_type": "code",
   "execution_count": 4,
   "metadata": {},
   "outputs": [],
   "source": [
    "class WordCNN(object):\n",
    "    def __init__(self, vocabulary_size, document_max_len, num_class):\n",
    "        self.embedding_size = 128\n",
    "        self.learning_rate = 1e-3\n",
    "        self.filter_sizes = [3, 4, 5]\n",
    "        self.num_filters = 100\n",
    "\n",
    "        self.x = tf.placeholder(tf.int32, [None, document_max_len], name=\"x\")\n",
    "        self.y = tf.placeholder(tf.int32, [None], name=\"y\")\n",
    "        self.is_training = tf.placeholder(tf.bool, [], name=\"is_training\")\n",
    "        self.global_step = tf.Variable(0, trainable=False)\n",
    "        self.keep_prob = tf.where(self.is_training, 0.5, 1.0)\n",
    "\n",
    "        with tf.name_scope(\"embedding\"):\n",
    "            init_embeddings = tf.random_uniform([vocabulary_size, self.embedding_size])\n",
    "            self.embeddings = tf.get_variable(\"embeddings\", initializer=init_embeddings)\n",
    "            self.x_emb = tf.nn.embedding_lookup(self.embeddings, self.x)\n",
    "            self.x_emb = tf.expand_dims(self.x_emb, -1)\n",
    "\n",
    "        pooled_outputs = []\n",
    "        for filter_size in self.filter_sizes:\n",
    "            conv = tf.layers.conv2d(\n",
    "                self.x_emb,\n",
    "                filters=self.num_filters,\n",
    "                kernel_size=[filter_size, self.embedding_size],\n",
    "                strides=(1, 1),\n",
    "                padding=\"VALID\",\n",
    "                activation=tf.nn.relu)\n",
    "            pool = tf.layers.max_pooling2d(\n",
    "                conv,\n",
    "                pool_size=[document_max_len - filter_size + 1, 1],\n",
    "                strides=(1, 1),\n",
    "                padding=\"VALID\")\n",
    "            pooled_outputs.append(pool)\n",
    "\n",
    "        h_pool = tf.concat(pooled_outputs, 3)\n",
    "        h_pool_flat = tf.reshape(h_pool, [-1, self.num_filters * len(self.filter_sizes)])\n",
    "\n",
    "        with tf.name_scope(\"dropout\"):\n",
    "            h_drop = tf.nn.dropout(h_pool_flat, self.keep_prob)\n",
    "\n",
    "        with tf.name_scope(\"output\"):\n",
    "            self.logits = tf.layers.dense(h_drop, num_class, activation=None)\n",
    "            self.predictions = tf.argmax(self.logits, -1, output_type=tf.int32)\n",
    "            self.yhat = self.predictions\n",
    "\n",
    "        with tf.name_scope(\"loss\"):\n",
    "            self.loss = tf.reduce_mean(\n",
    "                tf.nn.sparse_softmax_cross_entropy_with_logits(logits=self.logits, labels=self.y))\n",
    "            self.optimizer = tf.train.AdamOptimizer(self.learning_rate).minimize(self.loss, global_step=self.global_step)\n",
    "\n",
    "        with tf.name_scope(\"accuracy\"):\n",
    "            correct_predictions = tf.equal(self.predictions, self.y)\n",
    "            self.accuracy = tf.reduce_mean(tf.cast(correct_predictions, \"float\"), name=\"accuracy\")"
   ]
  },
  {
   "cell_type": "markdown",
   "metadata": {},
   "source": [
    "#### Dataset Utility Functions"
   ]
  },
  {
   "cell_type": "code",
   "execution_count": 5,
   "metadata": {},
   "outputs": [],
   "source": [
    "def clean_str(text):\n",
    "    text = re.sub(r\"\\s{2,}\", \" \", text)\n",
    "    text = text[:-1].strip() if text[-1] == \".\" else text\n",
    "    return text"
   ]
  },
  {
   "cell_type": "code",
   "execution_count": 6,
   "metadata": {},
   "outputs": [],
   "source": [
    "def build_word_dict():\n",
    "    \n",
    "    contents = df_train['content']\n",
    "    # contents.extend(df_valid['content'])\n",
    "    \n",
    "    words = list()\n",
    "    for content in contents:\n",
    "        if type(content)==str:\n",
    "            for word in word_tokenize(clean_str(content)):\n",
    "                words.append(word)\n",
    "                \n",
    "    word_counter = collections.Counter(words)########.most_common() ##removed because parameter n not mentioned\n",
    "    word_dict = dict()\n",
    "    word_dict['<pad>'] = 0\n",
    "    word_dict['<unk>'] = 1\n",
    "    word_dict['<eos>'] = 2\n",
    "    \n",
    "    for word in word_counter.keys():\n",
    "        word_dict[word] = len(word_dict)\n",
    "    \n",
    "    return word_dict"
   ]
  },
  {
   "cell_type": "code",
   "execution_count": 13,
   "metadata": {},
   "outputs": [],
   "source": [
    "def build_word_dataset(step, word_dict, word_max_len):\n",
    "    if step == \"test\":\n",
    "        df = df_test.copy()\n",
    "        df = df.sample(frac=1)\n",
    "        \n",
    "        x = list(map(lambda d: word_tokenize(clean_str(d)), df['content']))\n",
    "        x = list(map(lambda d: list(map(lambda w: word_dict.get(w, word_dict['<unk>']), d)), x))\n",
    "        x = list(map(lambda d: d + [word_dict['<eos>']], x))\n",
    "        x = list(map(lambda d: d[:word_max_len], x))\n",
    "        x = list(map(lambda d: d + (word_max_len - len(d)) * [word_dict['<pad>']], x))\n",
    "        \n",
    "        y = [0] * len(x)\n",
    "        \n",
    "        return x, y\n",
    "        \n",
    "    else:\n",
    "        if step == \"train\":\n",
    "            df = df_train.copy()\n",
    "        elif step == \"valid\":\n",
    "            df = df_valid.copy()\n",
    "        df = df.sample(frac=1)\n",
    "        \n",
    "        x = list(map(lambda d: word_tokenize(clean_str(d)), df['content']))\n",
    "        x = list(map(lambda d: list(map(lambda w: word_dict.get(w, word_dict['<unk>']), d)), x))\n",
    "        x = list(map(lambda d: d + [word_dict['<eos>']], x))\n",
    "        x = list(map(lambda d: d[:word_max_len], x))\n",
    "        x = list(map(lambda d: d + (word_max_len - len(d)) * [word_dict['<pad>']], x))\n",
    "\n",
    "        y = list(df['label'])\n",
    "\n",
    "        return x, y"
   ]
  },
  {
   "cell_type": "code",
   "execution_count": 8,
   "metadata": {},
   "outputs": [],
   "source": [
    "def batch_iter(inputs, outputs, batch_size, num_epochs):\n",
    "    inputs = np.array(inputs)\n",
    "    outputs = np.array(outputs)\n",
    "    \n",
    "    num_batches_per_epoch = (len(inputs) - 1) // batch_size + 1\n",
    "    for epoch in range(num_epochs):\n",
    "        for batch_num in range(num_batches_per_epoch):\n",
    "            start_index = batch_num * batch_size\n",
    "            end_index = min((batch_num + 1) * batch_size, len(inputs))\n",
    "            yield inputs[start_index:end_index], outputs[start_index:end_index]\n",
    "            \n",
    "def batch_iter_testing(inputs, batch_size, num_epochs):\n",
    "    inputs = np.array(inputs)\n",
    "    \n",
    "    num_batches_per_epoch = (len(inputs) - 1) // batch_size + 1\n",
    "    for epoch in range(num_epochs):\n",
    "        for batch_num in range(num_batches_per_epoch):\n",
    "            start_index = batch_num * batch_size\n",
    "            end_index = min((batch_num + 1) * batch_size, len(inputs))\n",
    "            yield inputs[start_index:end_index]"
   ]
  },
  {
   "cell_type": "markdown",
   "metadata": {},
   "source": [
    "#### Training and Validation"
   ]
  },
  {
   "cell_type": "code",
   "execution_count": 9,
   "metadata": {},
   "outputs": [],
   "source": [
    "NUM_CLASS = 14\n",
    "BATCH_SIZE = 64\n",
    "NUM_EPOCHS = 20\n",
    "WORD_MAX_LEN = 100\n",
    "# CHAR_MAX_LEN = 1014"
   ]
  },
  {
   "cell_type": "code",
   "execution_count": 10,
   "metadata": {},
   "outputs": [],
   "source": [
    "word_dict = build_word_dict()\n",
    "vocabulary_size = len(word_dict)\n",
    "# print(vocabulary_size)\n",
    "\n",
    "train_x, train_y = build_word_dataset(\"train\", word_dict, WORD_MAX_LEN)\n",
    "valid_x, valid_y = build_word_dataset(\"valid\", word_dict, WORD_MAX_LEN)\n",
    "\n",
    "######## Should we create word_dict with both train and dev? Can combine dev and train to train on both together and then cross validation"
   ]
  },
  {
   "cell_type": "code",
   "execution_count": 11,
   "metadata": {},
   "outputs": [
    {
     "name": "stdout",
     "output_type": "stream",
     "text": [
      "WARNING:tensorflow:From /Users/Sneha/anaconda3/lib/python3.8/site-packages/tensorflow/python/util/dispatch.py:206: calling dropout (from tensorflow.python.ops.nn_ops) with keep_prob is deprecated and will be removed in a future version.\n",
      "Instructions for updating:\n",
      "Please use `rate` instead of `keep_prob`. Rate should be set to `rate = 1 - keep_prob`.\n",
      "step 100: loss = 0.6865599155426025\n",
      "step 200: loss = 0.6825381517410278\n",
      "step 300: loss = 0.7103176116943359\n",
      "step 400: loss = 0.7036516070365906\n",
      "step 500: loss = 0.6873151063919067\n",
      "step 600: loss = 0.6337301731109619\n",
      "step 700: loss = 0.6281212568283081\n",
      "step 800: loss = 0.44779330492019653\n",
      "step 900: loss = 0.4462973475456238\n",
      "step 1000: loss = 0.256725937128067\n",
      "step 1100: loss = 0.29837557673454285\n",
      "step 1200: loss = 0.19972418248653412\n",
      "step 1300: loss = 0.22813834249973297\n",
      "step 1400: loss = 0.34471723437309265\n",
      "step 1500: loss = 0.16021543741226196\n",
      "step 1600: loss = 0.20096100866794586\n",
      "step 1700: loss = 0.1795511245727539\n",
      "step 1800: loss = 0.21925139427185059\n",
      "step 1900: loss = 0.1650944948196411\n",
      "step 2000: loss = 0.13141098618507385\n",
      "\n",
      "Validation Accuracy = 0.8530386984348297\n",
      "\n",
      "Model is saved.\n",
      "\n",
      "step 2100: loss = 0.16051077842712402\n",
      "step 2200: loss = 0.10236914455890656\n",
      "step 2300: loss = 0.14250217378139496\n",
      "step 2400: loss = 0.2790434956550598\n",
      "step 2500: loss = 0.16655153036117554\n",
      "step 2600: loss = 0.22350284457206726\n",
      "step 2700: loss = 0.1518416851758957\n",
      "step 2800: loss = 0.18847811222076416\n",
      "step 2900: loss = 0.09683369100093842\n",
      "step 3000: loss = 0.11297626048326492\n",
      "step 3100: loss = 0.09136130660772324\n",
      "step 3200: loss = 0.12264268845319748\n",
      "step 3300: loss = 0.08037048578262329\n",
      "step 3400: loss = 0.1691049039363861\n",
      "step 3500: loss = 0.08420884609222412\n",
      "step 3600: loss = 0.05963283032178879\n",
      "step 3700: loss = 0.09187814593315125\n",
      "step 3800: loss = 0.0931663066148758\n",
      "step 3900: loss = 0.09705042839050293\n",
      "step 4000: loss = 0.1683684140443802\n",
      "\n",
      "Validation Accuracy = 0.8706168234348297\n",
      "\n",
      "Model is saved.\n",
      "\n",
      "step 4100: loss = 0.038476455956697464\n",
      "step 4200: loss = 0.052071116864681244\n",
      "step 4300: loss = 0.02867482602596283\n",
      "step 4400: loss = 0.0975060760974884\n",
      "step 4500: loss = 0.0852757915854454\n",
      "step 4600: loss = 0.3673267960548401\n",
      "step 4700: loss = 0.06079382449388504\n",
      "step 4800: loss = 0.03882364183664322\n",
      "step 4900: loss = 0.17050684988498688\n",
      "step 5000: loss = 0.03151148185133934\n"
     ]
    }
   ],
   "source": [
    "with tf.Session() as sess:\n",
    "    model = WordCNN(vocabulary_size, WORD_MAX_LEN, NUM_CLASS)\n",
    "\n",
    "    sess.run(tf.global_variables_initializer())\n",
    "    saver = tf.train.Saver(tf.global_variables())\n",
    "\n",
    "    train_batches = batch_iter(train_x, train_y, BATCH_SIZE, NUM_EPOCHS)\n",
    "    num_batches_per_epoch = (len(train_x) - 1) // BATCH_SIZE + 1\n",
    "    max_accuracy = 0\n",
    "\n",
    "    for x_batch, y_batch in train_batches:\n",
    "        train_feed_dict = {\n",
    "            model.x: x_batch,\n",
    "            model.y: y_batch,\n",
    "            model.is_training: True\n",
    "        }\n",
    "\n",
    "        _, step, loss = sess.run([model.optimizer, model.global_step, model.loss], feed_dict=train_feed_dict)\n",
    "\n",
    "        if step % 100 == 0:\n",
    "            print(\"step {0}: loss = {1}\".format(step, loss))\n",
    "\n",
    "        if step % 2000 == 0:\n",
    "            # Test accuracy with validation data for each epoch.\n",
    "            valid_batches = batch_iter(valid_x, valid_y, BATCH_SIZE, 1)\n",
    "            sum_accuracy, cnt = 0, 0\n",
    "\n",
    "            for valid_x_batch, valid_y_batch in valid_batches:\n",
    "                valid_feed_dict = {\n",
    "                    model.x: valid_x_batch,\n",
    "                    model.y: valid_y_batch,\n",
    "                    model.is_training: False\n",
    "                }\n",
    "\n",
    "                accuracy = sess.run(model.accuracy, feed_dict=valid_feed_dict)\n",
    "                sum_accuracy += accuracy\n",
    "                cnt += 1\n",
    "            valid_accuracy = sum_accuracy / cnt\n",
    "\n",
    "            print(\"\\nValidation Accuracy = {1}\\n\".format(step // num_batches_per_epoch, sum_accuracy / cnt))\n",
    "\n",
    "            # Save model\n",
    "            if valid_accuracy > max_accuracy:\n",
    "                max_accuracy = valid_accuracy\n",
    "                saver.save(sess, \"{0}/{1}.ckpt\".format(\"word_cnn\", \"word_cnn\"), global_step=step)\n",
    "                print(\"Model is saved.\\n\")"
   ]
  },
  {
   "cell_type": "markdown",
   "metadata": {},
   "source": [
    "#### Prediction"
   ]
  },
  {
   "cell_type": "code",
   "execution_count": 14,
   "metadata": {},
   "outputs": [
    {
     "name": "stdout",
     "output_type": "stream",
     "text": [
      "INFO:tensorflow:Restoring parameters from word_cnn/word_cnn.ckpt-4000\n",
      "2028\n",
      "[0, 1, 0, 0, 1, 0, 1, 0, 1, 0, 1, 1, 1, 1, 1, 0, 1, 0, 1, 0, 1, 0, 0, 1, 0, 1, 1, 1, 1, 1, 1, 1, 1, 0, 1, 0, 0, 1, 1, 0, 1, 0, 0, 1, 1, 1, 1, 0, 0, 1, 1, 1, 0, 1, 1, 1, 0, 1, 1, 0, 0, 0, 0, 1, 0, 0, 0, 0, 0, 0, 0, 0, 1, 0, 0, 1, 1, 1, 1, 0, 1, 1, 1, 0, 1, 1, 0, 1, 1, 0, 0, 1, 1, 1, 0, 1, 1, 1, 0, 0, 1, 1, 0, 1, 1, 0, 1, 1, 0, 1, 0, 0, 0, 0, 1, 0, 0, 0, 1, 0, 0, 1, 1, 0, 1, 1, 1, 0, 1, 1, 0, 1, 1, 1, 0, 1, 1, 0, 1, 1, 1, 1, 1, 0, 1, 0, 1, 0, 0, 0, 0, 0, 0, 0, 0, 0, 0, 0, 0, 0, 0, 0, 1, 0, 0, 0, 1, 1, 0, 0, 1, 1, 0, 1, 1, 0, 1, 1, 1, 1, 0, 0, 1, 1, 1, 0, 1, 1, 0, 1, 0, 0, 1, 1, 0, 1, 0, 1, 0, 1, 0, 0, 1, 0, 1, 0, 1, 0, 0, 0, 1, 1, 1, 0, 0, 1, 1, 1, 0, 1, 0, 0, 1, 1, 1, 1, 1, 0, 0, 0, 0, 0, 1, 0, 1, 1, 1, 1, 0, 0, 0, 0, 0, 0, 0, 0, 1, 0, 1, 0, 1, 1, 1, 0, 0, 0, 1, 0, 0, 0, 0, 1, 0, 1, 0, 0, 1, 1, 0, 0, 1, 1, 1, 1, 1, 1, 0, 1, 1, 0, 1, 0, 0, 1, 1, 0, 1, 1, 0, 0, 1, 1, 0, 0, 1, 1, 1, 0, 1, 0, 0, 0, 1, 0, 1, 0, 1, 0, 0, 1, 0, 1, 1, 1, 1, 1, 1, 0, 1, 0, 1, 0, 0, 0, 1, 0, 1, 1, 0, 1, 1, 1, 0, 1, 1, 1, 1, 1, 0, 1, 1, 1, 1, 1, 0, 1, 0, 1, 1, 0, 1, 1, 1, 1, 1, 0, 1, 0, 0, 1, 0, 1, 0, 0, 0, 1, 0, 0, 1, 1, 1, 1, 1, 1, 1, 0, 1, 1, 1, 1, 1, 1, 0, 1, 0, 1, 1, 0, 0, 1, 1, 1, 1, 1, 0, 0, 0, 1, 1, 0, 0, 1, 0, 1, 1, 1, 0, 1, 1, 1, 1, 1, 0, 1, 1, 1, 0, 1, 0, 0, 1, 1, 1, 1, 1, 1, 0, 0, 0, 0, 1, 1, 1, 0, 0, 1, 1, 1, 0, 0, 1, 0, 0, 0, 1, 0, 0, 1, 0, 1, 0, 0, 0, 1, 1, 1, 1, 0, 0, 0, 0, 0, 0, 0, 1, 1, 0, 0, 1, 1, 1, 0, 0, 0, 1, 1, 1, 0, 1, 0, 0, 1, 1, 0, 1, 1, 0, 0, 1, 0, 0, 1, 0, 0, 1, 1, 0, 0, 1, 1, 1, 1, 1, 1, 1, 1, 1, 1, 1, 0, 0, 0, 1, 1, 0, 1, 1, 1, 1, 0, 1, 0, 1, 1, 0, 1, 0, 0, 1, 1, 1, 0, 0, 1, 0, 1, 1, 1, 0, 1, 0, 1, 0, 1, 0, 0, 0, 1, 0, 1, 0, 0, 0, 1, 1, 0, 1, 1, 0, 0, 1, 1, 0, 0, 0, 1, 1, 0, 1, 0, 0, 1, 0, 0, 0, 0, 1, 1, 1, 1, 0, 0, 1, 0, 1, 0, 1, 0, 0, 1, 1, 0, 1, 1, 0, 1, 1, 1, 1, 0, 0, 0, 1, 1, 0, 0, 0, 1, 0, 1, 1, 0, 0, 0, 0, 1, 1, 1, 1, 1, 0, 0, 1, 1, 0, 0, 1, 0, 0, 0, 0, 1, 0, 1, 1, 1, 0, 0, 1, 1, 0, 0, 1, 1, 0, 1, 0, 1, 0, 0, 0, 0, 0, 0, 0, 0, 0, 1, 0, 0, 0, 0, 1, 0, 1, 0, 1, 1, 0, 1, 0, 1, 1, 0, 1, 1, 1, 0, 1, 0, 0, 1, 1, 1, 0, 1, 1, 1, 1, 1, 1, 1, 1, 1, 1, 1, 1, 1, 1, 1, 0, 0, 1, 1, 1, 1, 1, 1, 1, 0, 1, 0, 1, 0, 1, 1, 0, 1, 0, 0, 1, 0, 1, 1, 0, 1, 1, 1, 0, 1, 1, 1, 1, 0, 0, 1, 0, 0, 1, 1, 1, 1, 1, 0, 0, 1, 1, 1, 1, 1, 0, 0, 0, 1, 1, 1, 1, 1, 1, 0, 0, 1, 1, 0, 1, 1, 0, 0, 1, 0, 0, 1, 0, 1, 1, 0, 0, 1, 0, 1, 1, 0, 1, 0, 1, 0, 0, 1, 0, 0, 1, 0, 1, 1, 1, 0, 0, 1, 0, 0, 0, 0, 1, 1, 1, 0, 0, 1, 1, 1, 1, 1, 1, 0, 1, 1, 1, 0, 1, 0, 0, 1, 1, 1, 0, 1, 1, 0, 0, 0, 1, 1, 1, 0, 0, 1, 0, 1, 0, 1, 1, 0, 1, 1, 1, 1, 1, 1, 1, 1, 1, 1, 1, 1, 1, 1, 1, 1, 0, 0, 1, 0, 1, 0, 1, 0, 0, 1, 0, 1, 0, 1, 1, 1, 0, 0, 1, 1, 0, 1, 0, 0, 1, 1, 1, 0, 0, 0, 1, 0, 0, 1, 1, 1, 1, 0, 0, 0, 0, 0, 0, 1, 1, 1, 0, 0, 1, 1, 0, 0, 0, 0, 1, 1, 1, 0, 0, 1, 1, 1, 1, 0, 0, 1, 1, 1, 1, 0, 0, 1, 0, 0, 0, 1, 0, 0, 1, 1, 1, 1, 0, 0, 1, 1, 1, 1, 0, 0, 0, 0, 0, 1, 1, 0, 0, 1, 1, 0, 0, 0, 1, 0, 1, 1, 0, 1, 0, 0, 0, 0, 1, 0, 1, 1, 1, 1, 0, 0, 1, 1, 1, 1, 1, 0, 0, 0, 1, 1, 0, 0, 0, 0, 1, 0, 0, 0, 0, 1, 0, 1, 0, 0, 1, 0, 1, 0, 1, 0, 1, 1, 1, 1, 1, 0, 0, 0, 1, 1, 1, 1, 0, 1, 0, 0, 0, 0, 0, 1, 0, 0, 0, 1, 1, 0, 1, 0, 1, 1, 0, 0, 1, 0, 1, 0, 1, 1, 1, 0, 1, 0, 1, 1, 1, 1, 0, 0, 1, 0, 0, 1, 0, 1, 0, 0, 1, 0, 0, 1, 0, 1, 0, 1, 0, 1, 1, 1, 1, 0, 1, 1, 1, 0, 1, 0, 0, 0, 0, 0, 1, 0, 0, 1, 1, 1, 1, 1, 1, 1, 1, 1, 0, 0, 0, 1, 0, 0, 1, 0, 1, 1, 0, 1, 1, 1, 0, 0, 1, 1, 0, 1, 0, 1, 0, 0, 0, 0, 0, 0, 1, 1, 0, 1, 0, 1, 0, 1, 1, 1, 0, 1, 1, 0, 1, 0, 0, 1, 1, 1, 0, 0, 1, 1, 1, 1, 0, 0, 0, 0, 0, 0, 1, 1, 0, 1, 0, 0, 0, 0, 0, 0, 1, 0, 1, 1, 0, 1, 0, 1, 1, 0, 0, 1, 0, 0, 1, 1, 1, 1, 1, 1, 0, 1, 1, 0, 0, 1, 1, 1, 0, 0, 0, 0, 0, 0, 0, 1, 1, 1, 1, 0, 0, 1, 0, 0, 0, 0, 1, 1, 1, 0, 1, 0, 0, 0, 0, 0, 1, 0, 1, 1, 1, 1, 0, 1, 1, 0, 1, 1, 1, 1, 1, 1, 0, 1, 1, 0, 0, 0, 0, 1, 0, 0, 0, 0, 0, 0, 0, 1, 0, 0, 0, 1, 0, 0, 1, 1, 0, 0, 1, 0, 0, 0, 1, 0, 0, 0, 1, 1, 0, 0, 1, 1, 1, 0, 0, 0, 1, 1, 1, 0, 1, 1, 0, 1, 1, 1, 1, 1, 1, 0, 1, 0, 1, 0, 1, 1, 0, 1, 1, 1, 1, 0, 0, 1, 0, 1, 1, 0, 0, 0, 1, 1, 0, 0, 1, 0, 1, 1, 1, 0, 1, 1, 1, 1, 0, 0, 0, 0, 0, 1, 0, 1, 0, 1, 0, 1, 0, 0, 1, 1, 0, 1, 1, 1, 0, 0, 0, 0, 1, 1, 1, 1, 1, 0, 0, 1, 0, 1, 0, 0, 0, 1, 0, 1, 1, 0, 0, 0, 1, 1, 1, 1, 0, 0, 0, 1, 0, 1, 0, 0, 0, 0, 0, 1, 1, 1, 0, 0, 0, 1, 0, 0, 1, 1, 1, 0, 0, 0, 1, 1, 1, 0, 1, 0, 0, 1, 0, 1, 1, 0, 1, 0, 0, 1, 1, 0, 1, 1, 0, 0, 1, 0, 1, 0, 1, 0, 1, 1, 1, 0, 1, 0, 0, 1, 0, 0, 1, 1, 0, 1, 0, 1, 0, 1, 0, 0, 0, 0, 1, 0, 1, 1, 1, 0, 0, 0, 0, 0, 0, 1, 0, 0, 1, 1, 0, 1, 0, 0, 1, 1, 1, 1, 1, 1, 0, 0, 0, 1, 1, 0, 0, 1, 1, 0, 1, 1, 1, 0, 0, 1, 0, 1, 1, 0, 0, 0, 0, 0, 1, 1, 1, 1, 1, 0, 0, 0, 1, 0, 0, 1, 1, 0, 1, 1, 1, 0, 1, 0, 0, 1, 0, 1, 1, 1, 1, 1, 1, 1, 1, 1, 0, 1, 0, 1, 1, 1, 1, 1, 0, 0, 1, 1, 1, 0, 0, 0, 1, 1, 1, 1, 0, 1, 0, 1, 1, 1, 0, 0, 1, 0, 1, 1, 0, 1, 0, 1, 1, 0, 1, 0, 1, 0, 0, 1, 1, 0, 0, 1, 0, 0, 1, 1, 0, 0, 1, 1, 1, 1, 1, 0, 0, 1, 1, 1, 0, 0, 0, 1, 0, 1, 0, 1, 1, 1, 0, 1, 0, 0, 0, 0, 1, 0, 1, 0, 1, 0, 0, 0, 1, 1, 1, 0, 0, 1, 0, 1, 0, 1, 0, 1, 0, 0, 0, 0, 1, 0, 1, 0, 0, 1, 0, 1, 0, 1, 0, 1, 1, 1, 1, 1, 1, 1, 1, 0, 1, 0, 1, 1, 1, 0, 1, 1, 0, 0, 0, 1, 1, 0, 0, 1, 0, 0, 1, 1, 1, 0, 1, 0, 1, 1, 1, 1, 1, 1, 1, 1, 1, 0, 0, 1, 1, 1, 0, 1, 1, 0, 0, 1, 1, 0, 0, 0, 1, 1, 0, 1, 0, 0, 0, 1, 1, 1, 0, 1, 0, 0, 0, 1, 1, 0, 0, 0, 1, 1, 0, 1, 0, 1, 0, 1, 0, 1, 1, 0, 0, 1, 1, 0, 0, 1, 0, 0, 1, 1, 0, 1, 0, 0, 1, 1, 1, 0, 0, 1, 0, 0, 0, 1, 1, 0, 0, 0, 1, 0, 1, 1, 1, 1, 1, 1, 1, 1, 0, 0, 0, 1, 1, 1, 0, 0, 0, 0, 1, 0, 1, 1, 1, 1, 0, 1, 1, 1, 1, 1, 0, 1, 0, 1, 1, 1, 1, 0, 1, 0, 1, 0, 1, 0, 1, 0, 1, 1, 1, 1, 1, 1, 1, 0, 1, 0, 0, 0, 1, 0, 0, 0, 1, 0, 0, 1, 1, 1, 0, 1, 1, 1, 0, 1, 1, 1, 1, 0, 0, 1, 1, 0, 1, 0, 0, 0, 0, 1, 1, 0, 1, 0, 0, 1, 1, 0, 1, 0, 0, 0, 0, 1, 1, 0, 1, 1, 0, 0, 1, 1, 1, 0, 0, 1, 1, 0, 0, 0, 1, 1, 0, 1, 0, 0, 0, 1, 1, 1, 0, 1, 1, 1, 1, 1, 1, 1, 0, 0, 1, 1, 0, 1, 1, 1, 1, 1, 1, 0, 0, 1, 0, 1, 1, 0, 1, 1, 0, 0, 0, 0, 0, 1, 0, 1, 0, 0, 1, 1, 0, 0, 1, 0, 1, 0, 1, 1, 0, 1, 0, 1, 0, 0, 1, 1, 1, 0, 0, 0, 1, 0, 0, 0, 0, 0, 1, 0, 1, 1, 0, 1, 0, 0, 0, 1, 0, 1, 1, 0, 1, 0, 0, 0, 1, 0, 0, 0, 0, 1, 1, 0, 0, 0, 1, 0, 0, 1, 1, 1, 1, 1, 0, 1, 1, 0, 1, 0, 1, 0, 1, 1, 1, 1, 1, 1, 0, 1, 0, 1, 0, 1, 0, 0, 1, 0]\n"
     ]
    }
   ],
   "source": [
    "BATCH_SIZE = 128\n",
    "\n",
    "test_x, test_y = build_word_dataset(\"test\", word_dict, WORD_MAX_LEN)\n",
    "checkpoint_file = tf.train.latest_checkpoint(\"word_cnn\")\n",
    "\n",
    "graph = tf.Graph()\n",
    "with graph.as_default():\n",
    "    with tf.Session() as sess:\n",
    "        saver = tf.train.import_meta_graph(\"{}.meta\".format(checkpoint_file))\n",
    "        saver.restore(sess, checkpoint_file)\n",
    "\n",
    "        x = graph.get_operation_by_name(\"x\").outputs[0]\n",
    "        y = graph.get_operation_by_name(\"y\").outputs[0]\n",
    "\n",
    "        is_training = graph.get_operation_by_name(\"is_training\").outputs[0]\n",
    "        accuracy = graph.get_operation_by_name(\"accuracy/accuracy\").outputs[0]\n",
    "        \n",
    "        results = []\n",
    "        \n",
    "        batches = batch_iter(test_x, test_y, BATCH_SIZE, 1)\n",
    "        for batch_x, batch_y in batches:\n",
    "            feed_dict = {\n",
    "                x: batch_x,\n",
    "                y: batch_y,\n",
    "                is_training: False\n",
    "            }\n",
    "            \n",
    "            # accuracy_out = sess.run(accuracy, feed_dict=feed_dict)\n",
    "            prediction = graph.get_tensor_by_name(\"output/ArgMax:0\")\n",
    "            pred = sess.run(prediction, feed_dict=feed_dict)\n",
    "            results.extend(pred)\n",
    "            \n",
    "print(len(results))\n",
    "print(results)"
   ]
  },
  {
   "cell_type": "markdown",
   "metadata": {},
   "source": [
    "### Output Prediction Result File"
   ]
  },
  {
   "cell_type": "markdown",
   "metadata": {},
   "source": [
    "You will need to submit a prediction result file. It should have 2028 lines, every line should be either 0 or 1, which is your model's prediction on the respective test set instance."
   ]
  },
  {
   "cell_type": "code",
   "execution_count": 15,
   "metadata": {},
   "outputs": [],
   "source": [
    "# suppose you had your model's predictions on the 2028 test cases read from test_enc_unlabeled.tsv, and \n",
    "# those results are in the list called 'results'\n",
    "assert (len(results) == 2028)"
   ]
  },
  {
   "cell_type": "code",
   "execution_count": 16,
   "metadata": {},
   "outputs": [],
   "source": [
    "# make sure the results are not float numbers, but intergers 0 and 1\n",
    "results = [int(x) for x in results]"
   ]
  },
  {
   "cell_type": "code",
   "execution_count": 17,
   "metadata": {},
   "outputs": [],
   "source": [
    "# write your prediction results to 'upload_predictions.txt' and upload that later\n",
    "with open('upload_predictions_word_cnn.txt', 'w', encoding = 'utf-8') as fp:\n",
    "    for x in results:\n",
    "        fp.write(str(x) + '\\n')"
   ]
  },
  {
   "cell_type": "code",
   "execution_count": null,
   "metadata": {},
   "outputs": [],
   "source": []
  }
 ],
 "metadata": {
  "kernelspec": {
   "display_name": "Python 3",
   "language": "python",
   "name": "python3"
  },
  "language_info": {
   "codemirror_mode": {
    "name": "ipython",
    "version": 3
   },
   "file_extension": ".py",
   "mimetype": "text/x-python",
   "name": "python",
   "nbconvert_exporter": "python",
   "pygments_lexer": "ipython3",
   "version": "3.8.3"
  }
 },
 "nbformat": 4,
 "nbformat_minor": 4
}
